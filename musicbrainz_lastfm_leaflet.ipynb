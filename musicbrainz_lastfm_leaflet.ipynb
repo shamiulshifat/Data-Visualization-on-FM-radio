{
 "cells": [
  {
   "cell_type": "markdown",
   "metadata": {},
   "source": [
    "# Leaflet web map of Last.fm artists\n",
    "\n",
    "To see the final product live, check out my article [\"Analyzing Last.fm Listening History\"](http://geoffboeing.com/2016/05/analyzing-lastfm-history/)\n",
    "\n",
    "Convert the geocoded CSV file of artists produced by [musicbrainz_geocoder.ipynb](musicbrainz_geocoder.ipynb) to a GeoJSON file for Leaflet web mapping."
   ]
  },
  {
   "cell_type": "code",
   "execution_count": 1,
   "metadata": {},
   "outputs": [],
   "source": [
    "import pandas as pd, json, math, random\n",
    "from IPython.display import IFrame"
   ]
  },
  {
   "cell_type": "code",
   "execution_count": 2,
   "metadata": {},
   "outputs": [
    {
     "name": "stdout",
     "output_type": "stream",
     "text": [
      "21,218 total rows\n",
      "15,939 rows with lat-long\n",
      "2,722 unique lat-longs\n"
     ]
    }
   ],
   "source": [
    "# load the geocoded data set of artists\n",
    "df = pd.read_csv('data/mb_geocoded.csv', encoding='utf-8')\n",
    "print('{:,} total rows'.format(len(df)))\n",
    "df = df[pd.notnull(df['place_latlng'])]\n",
    "print('{:,} rows with lat-long'.format(len(df)))\n",
    "print('{:,} unique lat-longs'.format(len(df['place_latlng'].unique())))"
   ]
  },
  {
   "cell_type": "code",
   "execution_count": 3,
   "metadata": {},
   "outputs": [
    {
     "data": {
      "text/html": [
       "<div>\n",
       "<style scoped>\n",
       "    .dataframe tbody tr th:only-of-type {\n",
       "        vertical-align: middle;\n",
       "    }\n",
       "\n",
       "    .dataframe tbody tr th {\n",
       "        vertical-align: top;\n",
       "    }\n",
       "\n",
       "    .dataframe thead th {\n",
       "        text-align: right;\n",
       "    }\n",
       "</style>\n",
       "<table border=\"1\" class=\"dataframe\">\n",
       "  <thead>\n",
       "    <tr style=\"text-align: right;\">\n",
       "      <th></th>\n",
       "      <th>name</th>\n",
       "      <th>place_full</th>\n",
       "      <th>place_count</th>\n",
       "      <th>lat</th>\n",
       "      <th>lng</th>\n",
       "    </tr>\n",
       "  </thead>\n",
       "  <tbody>\n",
       "    <tr>\n",
       "      <th>0</th>\n",
       "      <td>Mark</td>\n",
       "      <td>United States</td>\n",
       "      <td>2204</td>\n",
       "      <td>39.7837304</td>\n",
       "      <td>-100.4458824</td>\n",
       "    </tr>\n",
       "    <tr>\n",
       "      <th>1</th>\n",
       "      <td>Phantom Planet</td>\n",
       "      <td>Los Angeles, Los Angeles County, California, U...</td>\n",
       "      <td>293</td>\n",
       "      <td>34.0543942</td>\n",
       "      <td>-118.2439408</td>\n",
       "    </tr>\n",
       "    <tr>\n",
       "      <th>2</th>\n",
       "      <td>The Mamas &amp; the Papas</td>\n",
       "      <td>New York, New York, United States</td>\n",
       "      <td>218</td>\n",
       "      <td>40.7305991</td>\n",
       "      <td>-73.9865811</td>\n",
       "    </tr>\n",
       "    <tr>\n",
       "      <th>3</th>\n",
       "      <td>Real Estate</td>\n",
       "      <td>Ridgewood, Bergen County, New Jersey, United S...</td>\n",
       "      <td>3</td>\n",
       "      <td>40.9791864</td>\n",
       "      <td>-74.1165756</td>\n",
       "    </tr>\n",
       "    <tr>\n",
       "      <th>4</th>\n",
       "      <td>Radiohead</td>\n",
       "      <td>Abingdon-on-Thames, Oxfordshire, England, Unit...</td>\n",
       "      <td>1</td>\n",
       "      <td>51.6714842</td>\n",
       "      <td>-1.2779714</td>\n",
       "    </tr>\n",
       "  </tbody>\n",
       "</table>\n",
       "</div>"
      ],
      "text/plain": [
       "                    name                                         place_full  \\\n",
       "0                   Mark                                      United States   \n",
       "1         Phantom Planet  Los Angeles, Los Angeles County, California, U...   \n",
       "2  The Mamas & the Papas                  New York, New York, United States   \n",
       "3            Real Estate  Ridgewood, Bergen County, New Jersey, United S...   \n",
       "4              Radiohead  Abingdon-on-Thames, Oxfordshire, England, Unit...   \n",
       "\n",
       "   place_count         lat           lng  \n",
       "0         2204  39.7837304  -100.4458824  \n",
       "1          293  34.0543942  -118.2439408  \n",
       "2          218  40.7305991   -73.9865811  \n",
       "3            3  40.9791864   -74.1165756  \n",
       "4            1  51.6714842    -1.2779714  "
      ]
     },
     "execution_count": 3,
     "metadata": {},
     "output_type": "execute_result"
    }
   ],
   "source": [
    "# determine how many times each place appears in dataset, and break latlng into discrete lat and long\n",
    "place_counts = df['place_full'].value_counts()\n",
    "df['place_count'] = df['place_full'].map(lambda x: place_counts[x])\n",
    "df['lat'] = df['place_latlng'].map(lambda x: x.split(',')[0])\n",
    "df['lng'] = df['place_latlng'].map(lambda x: x.split(',')[1])\n",
    "df = df[['name', 'place_full', 'place_count', 'lat', 'lng']]\n",
    "df.head()"
   ]
  },
  {
   "cell_type": "code",
   "execution_count": 4,
   "metadata": {},
   "outputs": [],
   "source": [
    "# create html list of artists from each place\n",
    "features = []\n",
    "for place_full in df['place_full'].unique():\n",
    "    \n",
    "    # how many artists to show before saying \"...and n more\"\n",
    "    num_to_show = 3\n",
    "    line_break = '<br />'\n",
    "    artists = ''\n",
    "    \n",
    "    place_count = place_counts[place_full]\n",
    "    names = df[df['place_full']==place_full]['name']\n",
    "    \n",
    "    if place_count <= num_to_show:\n",
    "        for name in names:\n",
    "            artists = '{}{}{}'.format(artists, name, line_break)\n",
    "            \n",
    "    else:\n",
    "        for name in names[0:num_to_show]:\n",
    "            artists = '{}{}{}'.format(artists, name, line_break)\n",
    "        artists = '{}...and {:,} more'.format(artists, place_count - num_to_show)\n",
    "        \n",
    "    features.append([place_full, artists])\n",
    "\n",
    "df_leaflet = pd.DataFrame(features, columns=['place_full', 'artists'])"
   ]
  },
  {
   "cell_type": "code",
   "execution_count": 5,
   "metadata": {},
   "outputs": [],
   "source": [
    "# strip off any tailing (and hence unnecessary) line breaks at the end of the artists list\n",
    "# can't use str.strip for this because it strips characters: artist names would lose trailing b's and r's\n",
    "df_leaflet['artists'] = df_leaflet['artists'].map(lambda x: x[:-len(line_break)] if x.endswith(line_break) else x)"
   ]
  },
  {
   "cell_type": "code",
   "execution_count": 6,
   "metadata": {},
   "outputs": [],
   "source": [
    "# jitter either a lat or a lng within KMs of original\n",
    "def jitter(val, kms=0.5):\n",
    "    earth_radius = 6378.16\n",
    "    one_degree = (2 * math.pi * earth_radius) / 360\n",
    "    one_km = 1 / one_degree\n",
    "    lower_range = val - (kms * one_km)\n",
    "    upper_range = val + (kms * one_km)\n",
    "    return random.random() * (upper_range - lower_range) + lower_range"
   ]
  },
  {
   "cell_type": "code",
   "execution_count": 7,
   "metadata": {},
   "outputs": [
    {
     "data": {
      "text/html": [
       "<div>\n",
       "<style scoped>\n",
       "    .dataframe tbody tr th:only-of-type {\n",
       "        vertical-align: middle;\n",
       "    }\n",
       "\n",
       "    .dataframe tbody tr th {\n",
       "        vertical-align: top;\n",
       "    }\n",
       "\n",
       "    .dataframe thead th {\n",
       "        text-align: right;\n",
       "    }\n",
       "</style>\n",
       "<table border=\"1\" class=\"dataframe\">\n",
       "  <thead>\n",
       "    <tr style=\"text-align: right;\">\n",
       "      <th></th>\n",
       "      <th>place_full</th>\n",
       "      <th>artists</th>\n",
       "      <th>lat</th>\n",
       "      <th>lng</th>\n",
       "    </tr>\n",
       "  </thead>\n",
       "  <tbody>\n",
       "    <tr>\n",
       "      <th>0</th>\n",
       "      <td>United States</td>\n",
       "      <td>Mark&lt;br /&gt;The Glands&lt;br /&gt;Far East Movement&lt;br...</td>\n",
       "      <td>39.7817655</td>\n",
       "      <td>-100.4431791</td>\n",
       "    </tr>\n",
       "    <tr>\n",
       "      <th>1</th>\n",
       "      <td>Los Angeles, Los Angeles County, California, U...</td>\n",
       "      <td>Phantom Planet&lt;br /&gt;The Postal Service&lt;br /&gt;La...</td>\n",
       "      <td>34.0527366</td>\n",
       "      <td>-118.2471722</td>\n",
       "    </tr>\n",
       "    <tr>\n",
       "      <th>2</th>\n",
       "      <td>New York, New York, United States</td>\n",
       "      <td>The Mamas &amp; the Papas&lt;br /&gt;The Julie Ruin&lt;br /...</td>\n",
       "      <td>40.7275667</td>\n",
       "      <td>-73.9868624</td>\n",
       "    </tr>\n",
       "    <tr>\n",
       "      <th>3</th>\n",
       "      <td>Ridgewood, Bergen County, New Jersey, United S...</td>\n",
       "      <td>Real Estate&lt;br /&gt;Prawn&lt;br /&gt;Senses Fail</td>\n",
       "      <td>40.9777299</td>\n",
       "      <td>-74.1139262</td>\n",
       "    </tr>\n",
       "    <tr>\n",
       "      <th>4</th>\n",
       "      <td>Abingdon-on-Thames, Oxfordshire, England, Unit...</td>\n",
       "      <td>Radiohead</td>\n",
       "      <td>51.6751244</td>\n",
       "      <td>-1.2776672</td>\n",
       "    </tr>\n",
       "  </tbody>\n",
       "</table>\n",
       "</div>"
      ],
      "text/plain": [
       "                                          place_full  \\\n",
       "0                                      United States   \n",
       "1  Los Angeles, Los Angeles County, California, U...   \n",
       "2                  New York, New York, United States   \n",
       "3  Ridgewood, Bergen County, New Jersey, United S...   \n",
       "4  Abingdon-on-Thames, Oxfordshire, England, Unit...   \n",
       "\n",
       "                                             artists         lat           lng  \n",
       "0  Mark<br />The Glands<br />Far East Movement<br...  39.7817655  -100.4431791  \n",
       "1  Phantom Planet<br />The Postal Service<br />La...  34.0527366  -118.2471722  \n",
       "2  The Mamas & the Papas<br />The Julie Ruin<br /...  40.7275667   -73.9868624  \n",
       "3            Real Estate<br />Prawn<br />Senses Fail  40.9777299   -74.1139262  \n",
       "4                                          Radiohead  51.6751244    -1.2776672  "
      ]
     },
     "execution_count": 7,
     "metadata": {},
     "output_type": "execute_result"
    }
   ],
   "source": [
    "# add lat and long back to the dataframe\n",
    "place_lat_lng = {}\n",
    "df_unique = df[['place_full', 'lat', 'lng']].drop_duplicates(subset='place_full')\n",
    "for label in df_unique.index:\n",
    "    place_lat_lng[df_unique.loc[label, 'place_full']] = (df_unique.loc[label, 'lat'], df_unique.loc[label, 'lng'])\n",
    "\n",
    "# extract lat & lng, convert to float, jitter, and round to 7 decimal places\n",
    "df_leaflet['lat'] = df_leaflet['place_full'].map(lambda x: '{:.7f}'.format(jitter(float(place_lat_lng[x][0]))))\n",
    "df_leaflet['lng'] = df_leaflet['place_full'].map(lambda x: '{:.7f}'.format(jitter(float(place_lat_lng[x][1]))))\n",
    "df_leaflet.head()"
   ]
  },
  {
   "cell_type": "markdown",
   "metadata": {},
   "source": [
    "## Write to GeoJSON for leaflet mapping"
   ]
  },
  {
   "cell_type": "code",
   "execution_count": 8,
   "metadata": {},
   "outputs": [],
   "source": [
    "# function to write the dataframe out to geojson\n",
    "def df_to_geojson(df, properties, lat='latitude', lon='longitude'):\n",
    "    # create a new python dict to contain our geojson data, using geojson format\n",
    "    geojson = {'type':'FeatureCollection', 'features':[]}\n",
    "\n",
    "    # loop through each row in the dataframe and convert each row to geojson format\n",
    "    for _, row in df.iterrows():\n",
    "        # create a feature template to fill in\n",
    "        feature = {'type':'Feature',\n",
    "                   'properties':{},\n",
    "                   'geometry':{'type':'Point',\n",
    "                               'coordinates':[]}}\n",
    "\n",
    "        # fill in the coordinates\n",
    "        feature['geometry']['coordinates'] = [row[lon],row[lat]]\n",
    "\n",
    "        # for each column, get the value and add it as a new feature property\n",
    "        for prop in properties:\n",
    "            feature['properties'][prop] = row[prop]\n",
    "        \n",
    "        # add this feature (aka, converted dataframe row) to the list of features inside our dict\n",
    "        geojson['features'].append(feature)\n",
    "    \n",
    "    return geojson"
   ]
  },
  {
   "cell_type": "code",
   "execution_count": 9,
   "metadata": {},
   "outputs": [
    {
     "name": "stdout",
     "output_type": "stream",
     "text": [
      "2,766 geotagged features saved to file\n"
     ]
    }
   ],
   "source": [
    "geojson = df_to_geojson(df_leaflet, df_leaflet.columns, lat='lat', lon='lng')\n",
    "\n",
    "# save the geojson result to a file\n",
    "output_filename = 'leaflet/lastfm-dataset.js'\n",
    "with open(output_filename, 'w') as output_file:\n",
    "    output_file.write('var dataset={};'.format(json.dumps(geojson, separators=(',',':'))))\n",
    "    \n",
    "# how many features did we save to the geojson file?\n",
    "print('{:,} geotagged features saved to file'.format(len(geojson['features'])))"
   ]
  },
  {
   "cell_type": "code",
   "execution_count": 10,
   "metadata": {},
   "outputs": [
    {
     "data": {
      "text/html": [
       "\n",
       "        <iframe\n",
       "            width=\"600\"\n",
       "            height=\"400\"\n",
       "            src=\"leaflet/lastfm-artists-map.html\"\n",
       "            frameborder=\"0\"\n",
       "            allowfullscreen\n",
       "        ></iframe>\n",
       "        "
      ],
      "text/plain": [
       "<IPython.lib.display.IFrame at 0x23855adea20>"
      ]
     },
     "execution_count": 10,
     "metadata": {},
     "output_type": "execute_result"
    }
   ],
   "source": [
    "# show the iframe of the leaflet web map here\n",
    "IFrame('leaflet/lastfm-artists-map.html', width=600, height=400)"
   ]
  },
  {
   "cell_type": "markdown",
   "metadata": {},
   "source": [
    "To see the final product live, visit: http://geoffboeing.com/2016/05/analyzing-lastfm-history/"
   ]
  },
  {
   "cell_type": "code",
   "execution_count": null,
   "metadata": {},
   "outputs": [],
   "source": []
  }
 ],
 "metadata": {
  "anaconda-cloud": {},
  "kernelspec": {
   "display_name": "Python 3",
   "language": "python",
   "name": "python3"
  },
  "language_info": {
   "codemirror_mode": {
    "name": "ipython",
    "version": 3
   },
   "file_extension": ".py",
   "mimetype": "text/x-python",
   "name": "python",
   "nbconvert_exporter": "python",
   "pygments_lexer": "ipython3",
   "version": "3.6.3"
  }
 },
 "nbformat": 4,
 "nbformat_minor": 1
}
